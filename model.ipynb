{
 "cells": [
  {
   "cell_type": "code",
   "execution_count": 1,
   "metadata": {},
   "outputs": [],
   "source": [
    "import os\n",
    "os.environ['CUDA_DEVICE_ORDER'] = 'PCI_BUS_ID'\n",
    "os.environ['CUDA_VISIBLE_DEVICES'] = '0'"
   ]
  },
  {
   "cell_type": "code",
   "execution_count": 2,
   "metadata": {},
   "outputs": [],
   "source": [
    "import torch\n",
    "import torch.nn as nn\n",
    "import torch.nn.functional as F\n",
    "import matplotlib.pyplot as plt"
   ]
  },
  {
   "cell_type": "code",
   "execution_count": 3,
   "metadata": {},
   "outputs": [
    {
     "name": "stdout",
     "output_type": "stream",
     "text": [
      "cuda\n"
     ]
    }
   ],
   "source": [
    "DEVICE = torch.device(\"cuda\" if torch.cuda.is_available() else \"cpu\")\n",
    "print(DEVICE)"
   ]
  },
  {
   "cell_type": "code",
   "execution_count": 21,
   "metadata": {},
   "outputs": [],
   "source": [
    "class GI_NN(nn.Module):\n",
    "    def __init__(self, output_channels):\n",
    "        super(GI_NN, self).__init__()\n",
    "        self.gnn = nn.GRU(512, 128, 20)\n",
    "        self.first_layer = nn.Conv1d(6, 1, 1)\n",
    "        self.fc = nn.Linear(128, 64)\n",
    "        self.drop_out = nn.Dropout(0.25)\n",
    "        self.last_layer = nn.Linear(64, output_channels)\n",
    "\n",
    "    def forward(self, x):\n",
    "        x_list = []\n",
    "        for i in range(len(x)):\n",
    "            x_list.append(self.first_layer(x[i]))\n",
    "        a = torch.cat(tuple(x_list), 1)\n",
    "        a = torch.unsqueeze(torch.sum(a, 1), 0)\n",
    "        b = self.gnn(a)\n",
    "        c = self.fc(b[0])\n",
    "        d = self.drop_out(c)\n",
    "        z = self.last_layer(d)\n",
    "\n",
    "        return z"
   ]
  },
  {
   "cell_type": "code",
   "execution_count": 22,
   "metadata": {},
   "outputs": [
    {
     "data": {
      "text/plain": [
       "GI_NN(\n",
       "  (gnn): GRU(512, 128, num_layers=20)\n",
       "  (first_layer): Conv1d(6, 1, kernel_size=(1,), stride=(1,))\n",
       "  (fc): Linear(in_features=128, out_features=64, bias=True)\n",
       "  (drop_out): Dropout(p=0.25, inplace=False)\n",
       "  (last_layer): Linear(in_features=64, out_features=2, bias=True)\n",
       ")"
      ]
     },
     "execution_count": 22,
     "metadata": {},
     "output_type": "execute_result"
    }
   ],
   "source": [
    "model = GI_NN(output_channels=2)\n",
    "model.to(DEVICE)"
   ]
  },
  {
   "cell_type": "code",
   "execution_count": 23,
   "metadata": {},
   "outputs": [],
   "source": [
    "x_list = []\n",
    "for _ in range(6):\n",
    "    x_list.append(torch.randn(1, 6, 512).to(DEVICE))\n",
    "out = model(x_list)"
   ]
  },
  {
   "cell_type": "code",
   "execution_count": 25,
   "metadata": {},
   "outputs": [
    {
     "name": "stdout",
     "output_type": "stream",
     "text": [
      "tensor([[[-0.0975,  0.0107]]], device='cuda:0', grad_fn=<AddBackward0>)\n"
     ]
    }
   ],
   "source": [
    "print(out)"
   ]
  },
  {
   "cell_type": "code",
   "execution_count": 8,
   "metadata": {},
   "outputs": [
    {
     "name": "stdout",
     "output_type": "stream",
     "text": [
      "GI_NN(\n",
      "  (gnn): GRU(512, 128, num_layers=20)\n",
      "  (first_layer): Conv1d(6, 1, kernel_size=(1,), stride=(1,))\n",
      "  (fc): Linear(in_features=128, out_features=64, bias=True)\n",
      "  (drop_out): Dropout(p=0.25, inplace=False)\n",
      "  (last_layer): Linear(in_features=64, out_features=2, bias=True)\n",
      ")\n"
     ]
    }
   ],
   "source": []
  },
  {
   "cell_type": "code",
   "execution_count": null,
   "metadata": {},
   "outputs": [],
   "source": []
  }
 ],
 "metadata": {
  "kernelspec": {
   "display_name": "Python 3",
   "language": "python",
   "name": "python3"
  },
  "language_info": {
   "codemirror_mode": {
    "name": "ipython",
    "version": 3
   },
   "file_extension": ".py",
   "mimetype": "text/x-python",
   "name": "python",
   "nbconvert_exporter": "python",
   "pygments_lexer": "ipython3",
   "version": "3.6.9"
  }
 },
 "nbformat": 4,
 "nbformat_minor": 2
}
